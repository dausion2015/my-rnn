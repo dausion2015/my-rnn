{
 "cells": [
  {
   "cell_type": "code",
   "execution_count": 3,
   "metadata": {},
   "outputs": [
    {
     "name": "stdout",
     "output_type": "stream",
     "text": [
      "  渔家傲风。。。风人。人，\n",
      "风风。。，\n"
     ]
    }
   ],
   "source": [
    "print('''  \\u6e14\\u5bb6\\u50b2\\u98ce\\u3002\\u3002\\u3002\\u98ce\\u4eba\\u3002\\u4eba\\uff0c\n",
    "\\u98ce\\u98ce\\u3002\\u3002\\uff0c''')"
   ]
  },
  {
   "cell_type": "code",
   "execution_count": 4,
   "metadata": {},
   "outputs": [
    {
     "name": "stdout",
     "output_type": "stream",
     "text": [
      "江神子。。、风，，。，。一\n",
      "，，一、人，、风。一\n",
      "，一\n",
      "。。，风，。。。。。风花\n",
      "风\n",
      "。、、一风。，。一人。，，，、花、，、。UNKUNK花一\n",
      "2018-06-29 12:22:53,800 - DEBUG - sample.py:90 - ==============[蝶恋花]==============\n",
      "2018-06-29 12:22:53,801 - DEBUG - sample.py:91 - 蝶恋花一。\n",
      "，花，。。，，一人\n",
      "，\n",
      "，，。。\n",
      "（\n",
      "。\n",
      "。。，一。\n",
      "风、。。（，、。\n",
      "。、，、\n",
      "人人，，，人花。\n",
      "，风。UNKUNK。（，。，花\n",
      "2018-06-29 12:22:53,996 - DEBUG - sample.py:90 - ==============[渔家傲]==============\n",
      "2018-06-29 12:22:53,996 - DEBUG - sample.py:91 - 渔家傲风。。。风人。人，\n",
      "风风。。，\n",
      "\n",
      "。，，一、\n",
      "。，，\n",
      "。一，，人。，。人。\n",
      "。、一。风，。\n",
      "（，风（花花，。，花。。，人。（。。\n"
     ]
    }
   ],
   "source": [
    "print('''\\u6c5f\\u795e\\u5b50\\u3002\\u3002\\u3001\\u98ce\\uff0c\\uff0c\\u3002\\uff0c\\u3002\\u4e00\n",
    "\\uff0c\\uff0c\\u4e00\\u3001\\u4eba\\uff0c\\u3001\\u98ce\\u3002\\u4e00\n",
    "\\uff0c\\u4e00\n",
    "\\u3002\\u3002\\uff0c\\u98ce\\uff0c\\u3002\\u3002\\u3002\\u3002\\u3002\\u98ce\\u82b1\n",
    "\\u98ce\n",
    "\\u3002\\u3001\\u3001\\u4e00\\u98ce\\u3002\\uff0c\\u3002\\u4e00\\u4eba\\u3002\\uff0c\\uff0c\\uff0c\\u3001\\u82b1\\u3001\\uff0c\\u3001\\u3002UNKUNK\\u82b1\\u4e00\n",
    "2018-06-29 12:22:53,800 - DEBUG - sample.py:90 - ==============[\\u8776\\u604b\\u82b1]==============\n",
    "2018-06-29 12:22:53,801 - DEBUG - sample.py:91 - \\u8776\\u604b\\u82b1\\u4e00\\u3002\n",
    "\\uff0c\\u82b1\\uff0c\\u3002\\u3002\\uff0c\\uff0c\\u4e00\\u4eba\n",
    "\\uff0c\n",
    "\\uff0c\\uff0c\\u3002\\u3002\n",
    "\\uff08\n",
    "\\u3002\n",
    "\\u3002\\u3002\\uff0c\\u4e00\\u3002\n",
    "\\u98ce\\u3001\\u3002\\u3002\\uff08\\uff0c\\u3001\\u3002\n",
    "\\u3002\\u3001\\uff0c\\u3001\n",
    "\\u4eba\\u4eba\\uff0c\\uff0c\\uff0c\\u4eba\\u82b1\\u3002\n",
    "\\uff0c\\u98ce\\u3002UNKUNK\\u3002\\uff08\\uff0c\\u3002\\uff0c\\u82b1\n",
    "2018-06-29 12:22:53,996 - DEBUG - sample.py:90 - ==============[\\u6e14\\u5bb6\\u50b2]==============\n",
    "2018-06-29 12:22:53,996 - DEBUG - sample.py:91 - \\u6e14\\u5bb6\\u50b2\\u98ce\\u3002\\u3002\\u3002\\u98ce\\u4eba\\u3002\\u4eba\\uff0c\n",
    "\\u98ce\\u98ce\\u3002\\u3002\\uff0c\n",
    "\n",
    "\\u3002\\uff0c\\uff0c\\u4e00\\u3001\n",
    "\\u3002\\uff0c\\uff0c\n",
    "\\u3002\\u4e00\\uff0c\\uff0c\\u4eba\\u3002\\uff0c\\u3002\\u4eba\\u3002\n",
    "\\u3002\\u3001\\u4e00\\u3002\\u98ce\\uff0c\\u3002\n",
    "\\uff08\\uff0c\\u98ce\\uff08\\u82b1\\u82b1\\uff0c\\u3002\\uff0c\\u82b1\\u3002\\u3002\\uff0c\\u4eba\\u3002\\uff08\\u3002\\u3002''')"
   ]
  },
  {
   "cell_type": "code",
   "execution_count": 5,
   "metadata": {},
   "outputs": [
    {
     "name": "stdout",
     "output_type": "stream",
     "text": [
      "2018-06-29 12:44:47,290 - DEBUG - sample.py:90 - ==============[江神子]==============\n",
      "2018-06-29 12:44:47,290 - DEBUG - sample.py:91 - 江神子，，，人花风、。。、。。，、花。\n",
      "。。。，、风\n",
      "。，风，。。\n",
      "\n",
      "，一风。、一人。\n",
      "。UNKUNK，一风，。。一。、人、。、。、，\n",
      "。\n",
      "，\n",
      "2018-06-29 12:44:47,498 - DEBUG - sample.py:90 - ==============[蝶恋花]==============\n",
      "2018-06-29 12:44:47,498 - DEBUG - sample.py:91 - 蝶恋花\n",
      "。\n",
      "。花、\n",
      "，、。。（，\n",
      "。，。，，\n",
      "。人\n",
      "\n",
      "，。一。，，、，。花风，（花人，。UNKUNK一（，（\n",
      "，风、（。，、人风\n",
      "。\n",
      "人花、\n",
      "\n",
      "2018-06-29 12:44:47,708 - DEBUG - sample.py:90 - ==============[渔家傲]==============\n",
      "2018-06-29 12:44:47,708 - DEBUG - sample.py:91 - 渔家傲、。\n",
      "，一花一。，，，。人\n",
      "。UNKUNK。。\n",
      "花花（风。。\n",
      "。\n",
      "、，花。，花。，一人。人。、\n",
      "。。\n",
      "花花。。\n",
      "风。（，、\n",
      "、\n",
      "。、。花\n"
     ]
    }
   ],
   "source": [
    "print('''2018-06-29 12:44:47,290 - DEBUG - sample.py:90 - ==============[\\u6c5f\\u795e\\u5b50]==============\n",
    "2018-06-29 12:44:47,290 - DEBUG - sample.py:91 - \\u6c5f\\u795e\\u5b50\\uff0c\\uff0c\\uff0c\\u4eba\\u82b1\\u98ce\\u3001\\u3002\\u3002\\u3001\\u3002\\u3002\\uff0c\\u3001\\u82b1\\u3002\n",
    "\\u3002\\u3002\\u3002\\uff0c\\u3001\\u98ce\n",
    "\\u3002\\uff0c\\u98ce\\uff0c\\u3002\\u3002\n",
    "\n",
    "\\uff0c\\u4e00\\u98ce\\u3002\\u3001\\u4e00\\u4eba\\u3002\n",
    "\\u3002UNKUNK\\uff0c\\u4e00\\u98ce\\uff0c\\u3002\\u3002\\u4e00\\u3002\\u3001\\u4eba\\u3001\\u3002\\u3001\\u3002\\u3001\\uff0c\n",
    "\\u3002\n",
    "\\uff0c\n",
    "2018-06-29 12:44:47,498 - DEBUG - sample.py:90 - ==============[\\u8776\\u604b\\u82b1]==============\n",
    "2018-06-29 12:44:47,498 - DEBUG - sample.py:91 - \\u8776\\u604b\\u82b1\n",
    "\\u3002\n",
    "\\u3002\\u82b1\\u3001\n",
    "\\uff0c\\u3001\\u3002\\u3002\\uff08\\uff0c\n",
    "\\u3002\\uff0c\\u3002\\uff0c\\uff0c\n",
    "\\u3002\\u4eba\n",
    "\n",
    "\\uff0c\\u3002\\u4e00\\u3002\\uff0c\\uff0c\\u3001\\uff0c\\u3002\\u82b1\\u98ce\\uff0c\\uff08\\u82b1\\u4eba\\uff0c\\u3002UNKUNK\\u4e00\\uff08\\uff0c\\uff08\n",
    "\\uff0c\\u98ce\\u3001\\uff08\\u3002\\uff0c\\u3001\\u4eba\\u98ce\n",
    "\\u3002\n",
    "\\u4eba\\u82b1\\u3001\n",
    "\n",
    "2018-06-29 12:44:47,708 - DEBUG - sample.py:90 - ==============[\\u6e14\\u5bb6\\u50b2]==============\n",
    "2018-06-29 12:44:47,708 - DEBUG - sample.py:91 - \\u6e14\\u5bb6\\u50b2\\u3001\\u3002\n",
    "\\uff0c\\u4e00\\u82b1\\u4e00\\u3002\\uff0c\\uff0c\\uff0c\\u3002\\u4eba\n",
    "\\u3002UNKUNK\\u3002\\u3002\n",
    "\\u82b1\\u82b1\\uff08\\u98ce\\u3002\\u3002\n",
    "\\u3002\n",
    "\\u3001\\uff0c\\u82b1\\u3002\\uff0c\\u82b1\\u3002\\uff0c\\u4e00\\u4eba\\u3002\\u4eba\\u3002\\u3001\n",
    "\\u3002\\u3002\n",
    "\\u82b1\\u82b1\\u3002\\u3002\n",
    "\\u98ce\\u3002\\uff08\\uff0c\\u3001\n",
    "\\u3001\n",
    "\\u3002\\u3001\\u3002\\u82b1''')"
   ]
  },
  {
   "cell_type": "code",
   "execution_count": 6,
   "metadata": {},
   "outputs": [
    {
     "name": "stdout",
     "output_type": "stream",
     "text": [
      "==============[江神子]==============\n",
      "2018-06-29 13:06:28,597 - DEBUG - sample.py:91 - 江神子。。、\n",
      "，，、。（、，，花，、\n",
      "。。\n",
      "。、、。UNKUNK。、\n",
      "，。。，，，\n",
      "。，。。花风。。。。一，。。花、花一人。，一风，。。。。（\n",
      "2018-06-29 13:06:28,795 - DEBUG - sample.py:90 - ==============[蝶恋花]==============\n",
      "2018-06-29 13:06:28,795 - DEBUG - sample.py:91 - 蝶恋花。\n",
      "人。。花，，、，（，。，、。（，人，。，、\n",
      "\n",
      "。。UNKUNK，人风，、一、、一人。。\n",
      "、人\n",
      "风、\n",
      "。花，。。。。\n",
      "，。，，一\n",
      "，，\n",
      "2018-06-29 13:06:28,996 - DEBUG - sample.py:90 - ==============[渔家傲]==============\n",
      "2018-06-29 13:06:28,996 - DEBUG - sample.py:91 - 渔家傲\n",
      "，，风，\n",
      "。\n",
      "、一、。。花。。，人，风。。。\n",
      "。UNKUNK人\n",
      "。UNKUNK。\n",
      "一。、花（，。。、。风一。人、风、（\n",
      "一、，风人，（，\n",
      "。。\n"
     ]
    }
   ],
   "source": [
    "print('''==============[\\u6c5f\\u795e\\u5b50]==============\n",
    "2018-06-29 13:06:28,597 - DEBUG - sample.py:91 - \\u6c5f\\u795e\\u5b50\\u3002\\u3002\\u3001\n",
    "\\uff0c\\uff0c\\u3001\\u3002\\uff08\\u3001\\uff0c\\uff0c\\u82b1\\uff0c\\u3001\n",
    "\\u3002\\u3002\n",
    "\\u3002\\u3001\\u3001\\u3002UNKUNK\\u3002\\u3001\n",
    "\\uff0c\\u3002\\u3002\\uff0c\\uff0c\\uff0c\n",
    "\\u3002\\uff0c\\u3002\\u3002\\u82b1\\u98ce\\u3002\\u3002\\u3002\\u3002\\u4e00\\uff0c\\u3002\\u3002\\u82b1\\u3001\\u82b1\\u4e00\\u4eba\\u3002\\uff0c\\u4e00\\u98ce\\uff0c\\u3002\\u3002\\u3002\\u3002\\uff08\n",
    "2018-06-29 13:06:28,795 - DEBUG - sample.py:90 - ==============[\\u8776\\u604b\\u82b1]==============\n",
    "2018-06-29 13:06:28,795 - DEBUG - sample.py:91 - \\u8776\\u604b\\u82b1\\u3002\n",
    "\\u4eba\\u3002\\u3002\\u82b1\\uff0c\\uff0c\\u3001\\uff0c\\uff08\\uff0c\\u3002\\uff0c\\u3001\\u3002\\uff08\\uff0c\\u4eba\\uff0c\\u3002\\uff0c\\u3001\n",
    "\n",
    "\\u3002\\u3002UNKUNK\\uff0c\\u4eba\\u98ce\\uff0c\\u3001\\u4e00\\u3001\\u3001\\u4e00\\u4eba\\u3002\\u3002\n",
    "\\u3001\\u4eba\n",
    "\\u98ce\\u3001\n",
    "\\u3002\\u82b1\\uff0c\\u3002\\u3002\\u3002\\u3002\n",
    "\\uff0c\\u3002\\uff0c\\uff0c\\u4e00\n",
    "\\uff0c\\uff0c\n",
    "2018-06-29 13:06:28,996 - DEBUG - sample.py:90 - ==============[\\u6e14\\u5bb6\\u50b2]==============\n",
    "2018-06-29 13:06:28,996 - DEBUG - sample.py:91 - \\u6e14\\u5bb6\\u50b2\n",
    "\\uff0c\\uff0c\\u98ce\\uff0c\n",
    "\\u3002\n",
    "\\u3001\\u4e00\\u3001\\u3002\\u3002\\u82b1\\u3002\\u3002\\uff0c\\u4eba\\uff0c\\u98ce\\u3002\\u3002\\u3002\n",
    "\\u3002UNKUNK\\u4eba\n",
    "\\u3002UNKUNK\\u3002\n",
    "\\u4e00\\u3002\\u3001\\u82b1\\uff08\\uff0c\\u3002\\u3002\\u3001\\u3002\\u98ce\\u4e00\\u3002\\u4eba\\u3001\\u98ce\\u3001\\uff08\n",
    "\\u4e00\\u3001\\uff0c\\u98ce\\u4eba\\uff0c\\uff08\\uff0c\n",
    "\\u3002\\u3002''')"
   ]
  },
  {
   "cell_type": "code",
   "execution_count": 8,
   "metadata": {},
   "outputs": [
    {
     "name": "stdout",
     "output_type": "stream",
     "text": [
      " 江神子。，，\n",
      "（。、（\n",
      "。，，一。，。，。（，、，花，花，。\n",
      "\n",
      "\n",
      "人，。花风，风花，。。\n",
      "，，风（\n",
      "。UNKUNK。花。，。\n",
      "，。。人。\n",
      "（风\n",
      "2018-06-29 13:28:17,064 - DEBUG - sample.py:90 - ==============[蝶恋花]==============\n",
      "2018-06-29 13:28:17,064 - DEBUG - sample.py:91 - 蝶恋花。\n",
      "\n",
      "一。，，，，\n",
      "，，一\n",
      "人（。\n",
      "。UNKUNK。。、、\n",
      "\n",
      "，\n",
      "\n",
      "。。、花。。。\n",
      "花，。一，、，\n"
     ]
    }
   ],
   "source": [
    "print(''' \\u6c5f\\u795e\\u5b50\\u3002\\uff0c\\uff0c\n",
    "\\uff08\\u3002\\u3001\\uff08\n",
    "\\u3002\\uff0c\\uff0c\\u4e00\\u3002\\uff0c\\u3002\\uff0c\\u3002\\uff08\\uff0c\\u3001\\uff0c\\u82b1\\uff0c\\u82b1\\uff0c\\u3002\n",
    "\n",
    "\n",
    "\\u4eba\\uff0c\\u3002\\u82b1\\u98ce\\uff0c\\u98ce\\u82b1\\uff0c\\u3002\\u3002\n",
    "\\uff0c\\uff0c\\u98ce\\uff08\n",
    "\\u3002UNKUNK\\u3002\\u82b1\\u3002\\uff0c\\u3002\n",
    "\\uff0c\\u3002\\u3002\\u4eba\\u3002\n",
    "\\uff08\\u98ce\n",
    "2018-06-29 13:28:17,064 - DEBUG - sample.py:90 - ==============[\\u8776\\u604b\\u82b1]==============\n",
    "2018-06-29 13:28:17,064 - DEBUG - sample.py:91 - \\u8776\\u604b\\u82b1\\u3002\n",
    "\n",
    "\\u4e00\\u3002\\uff0c\\uff0c\\uff0c\\uff0c\n",
    "\\uff0c\\uff0c\\u4e00\n",
    "\\u4eba\\uff08\\u3002\n",
    "\\u3002UNKUNK\\u3002\\u3002\\u3001\\u3001\n",
    "\n",
    "\\uff0c\n",
    "\n",
    "\\u3002\\u3002\\u3001\\u82b1\\u3002\\u3002\\u3002\n",
    "\\u82b1\\uff0c\\u3002\\u4e00\\uff0c\\u3001\\uff0c''')"
   ]
  },
  {
   "cell_type": "code",
   "execution_count": 12,
   "metadata": {},
   "outputs": [
    {
     "data": {
      "text/plain": [
       "'2018-06-29 21:45:31.343925'"
      ]
     },
     "execution_count": 12,
     "metadata": {},
     "output_type": "execute_result"
    }
   ],
   "source": [
    "import datetime\n",
    "str(datetime.datetime.now())"
   ]
  },
  {
   "cell_type": "code",
   "execution_count": null,
   "metadata": {},
   "outputs": [],
   "source": []
  }
 ],
 "metadata": {
  "kernelspec": {
   "display_name": "Python 3",
   "language": "python",
   "name": "python3"
  },
  "language_info": {
   "codemirror_mode": {
    "name": "ipython",
    "version": 3
   },
   "file_extension": ".py",
   "mimetype": "text/x-python",
   "name": "python",
   "nbconvert_exporter": "python",
   "pygments_lexer": "ipython3",
   "version": "3.6.4"
  }
 },
 "nbformat": 4,
 "nbformat_minor": 2
}
